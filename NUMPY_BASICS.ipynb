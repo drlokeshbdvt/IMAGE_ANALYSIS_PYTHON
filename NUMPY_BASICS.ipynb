{
 "cells": [
  {
   "cell_type": "code",
   "execution_count": 2,
   "id": "5aada78f",
   "metadata": {},
   "outputs": [],
   "source": [
    "# CREATING A NUMPY ARRAY\n",
    "mylist = [1,2,3,4]"
   ]
  },
  {
   "cell_type": "code",
   "execution_count": 3,
   "id": "a4f5d8bd",
   "metadata": {},
   "outputs": [],
   "source": [
    "# importing numpy package\n",
    "import numpy as np"
   ]
  },
  {
   "cell_type": "code",
   "execution_count": 6,
   "id": "c556877f",
   "metadata": {},
   "outputs": [],
   "source": [
    "# creating a numpy array from a list\n",
    "numpy1 = np.array(mylist)"
   ]
  },
  {
   "cell_type": "code",
   "execution_count": 7,
   "id": "1ed137de",
   "metadata": {},
   "outputs": [
    {
     "data": {
      "text/plain": [
       "array([1, 2, 3, 4])"
      ]
     },
     "execution_count": 7,
     "metadata": {},
     "output_type": "execute_result"
    }
   ],
   "source": [
    "numpy1"
   ]
  },
  {
   "cell_type": "code",
   "execution_count": 19,
   "id": "45e364e3",
   "metadata": {},
   "outputs": [
    {
     "data": {
      "text/plain": [
       "array([ 1,  3,  5,  7,  9, 11, 13, 15, 17, 19])"
      ]
     },
     "execution_count": 19,
     "metadata": {},
     "output_type": "execute_result"
    }
   ],
   "source": [
    "# create an numpy array within a given range\n",
    "# we need to pass the start , stop and step values\n",
    "arr1=np.arange(1,20,2)\n",
    "arr1"
   ]
  },
  {
   "cell_type": "code",
   "execution_count": 20,
   "id": "f4a8018c",
   "metadata": {},
   "outputs": [
    {
     "data": {
      "text/plain": [
       "array([[0., 0., 0., 0., 0.],\n",
       "       [0., 0., 0., 0., 0.],\n",
       "       [0., 0., 0., 0., 0.],\n",
       "       [0., 0., 0., 0., 0.],\n",
       "       [0., 0., 0., 0., 0.],\n",
       "       [0., 0., 0., 0., 0.],\n",
       "       [0., 0., 0., 0., 0.],\n",
       "       [0., 0., 0., 0., 0.]])"
      ]
     },
     "execution_count": 20,
     "metadata": {},
     "output_type": "execute_result"
    }
   ],
   "source": [
    "# create an array of zeros\n",
    "# need to pass in the shape of the array\n",
    "arr2= np.zeros((8,5))\n",
    "# here we have given (8,5) and the function outputs eight rows and five columns of zeroes\n",
    "# the point following a zero is because it is creating a float\n",
    "arr2"
   ]
  },
  {
   "cell_type": "code",
   "execution_count": 21,
   "id": "f17a5c6e",
   "metadata": {},
   "outputs": [
    {
     "data": {
      "text/plain": [
       "array([[1., 1., 1., 1., 1., 1., 1., 1., 1., 1.],\n",
       "       [1., 1., 1., 1., 1., 1., 1., 1., 1., 1.],\n",
       "       [1., 1., 1., 1., 1., 1., 1., 1., 1., 1.]])"
      ]
     },
     "execution_count": 21,
     "metadata": {},
     "output_type": "execute_result"
    }
   ],
   "source": [
    "# we can create an array of ones by invoking the np.ones function \n",
    "arr3= np.ones((3,10))\n",
    "# we have passed a shape of (3,10) as an argument and hence we get an output of three rows and ten columns \n",
    "arr3"
   ]
  },
  {
   "cell_type": "code",
   "execution_count": 24,
   "id": "06332c27",
   "metadata": {},
   "outputs": [
    {
     "data": {
      "text/plain": [
       "array([21, 91, 80, 73, 97, 85, 19, 87, 50, 14])"
      ]
     },
     "execution_count": 24,
     "metadata": {},
     "output_type": "execute_result"
    }
   ],
   "source": [
    "# generating random numbers/ numpy has a module called random that has several built in functions\n",
    "# random seed is used to ensure the results are reproducible\n",
    "#random,randint would generate random numbers. its arguments are low- lowest number , high - highest number ,size - number of\n",
    "# random values to be generated\n",
    "np.random.seed(101)\n",
    "arr4= np.random.randint(10,100,10)\n",
    "arr4"
   ]
  },
  {
   "cell_type": "code",
   "execution_count": 26,
   "id": "14aaed86",
   "metadata": {},
   "outputs": [
    {
     "data": {
      "text/plain": [
       "97"
      ]
     },
     "execution_count": 26,
     "metadata": {},
     "output_type": "execute_result"
    }
   ],
   "source": [
    "# numpy fucntion to find a maximum value in an given array\n",
    "np.max(arr4)"
   ]
  },
  {
   "cell_type": "code",
   "execution_count": 27,
   "id": "1366179a",
   "metadata": {},
   "outputs": [
    {
     "data": {
      "text/plain": [
       "4"
      ]
     },
     "execution_count": 27,
     "metadata": {},
     "output_type": "execute_result"
    }
   ],
   "source": [
    "# numpy function to locate the index of the maximum value in an given array\n",
    "np.argmax(arr4)"
   ]
  },
  {
   "cell_type": "code",
   "execution_count": null,
   "id": "ac801eee",
   "metadata": {},
   "outputs": [],
   "source": [
    "# in the above function np.argmax the maximum value is at the index 4 in the array - arr4\n",
    "# hence the output is four"
   ]
  },
  {
   "cell_type": "code",
   "execution_count": 28,
   "id": "c2c6c9a5",
   "metadata": {},
   "outputs": [
    {
     "data": {
      "text/plain": [
       "14"
      ]
     },
     "execution_count": 28,
     "metadata": {},
     "output_type": "execute_result"
    }
   ],
   "source": [
    "# numpy function to locate the minimum value in an array\n",
    "# to get the value use np.min()\n",
    "\n",
    "np.min(arr4)"
   ]
  },
  {
   "cell_type": "code",
   "execution_count": 29,
   "id": "43938515",
   "metadata": {},
   "outputs": [
    {
     "data": {
      "text/plain": [
       "9"
      ]
     },
     "execution_count": 29,
     "metadata": {},
     "output_type": "execute_result"
    }
   ],
   "source": [
    "# to get the location of the minimum value use - np.argmin()\n",
    "np.argmin(arr4)"
   ]
  },
  {
   "cell_type": "code",
   "execution_count": 30,
   "id": "f53045a8",
   "metadata": {},
   "outputs": [
    {
     "data": {
      "text/plain": [
       "61.7"
      ]
     },
     "execution_count": 30,
     "metadata": {},
     "output_type": "execute_result"
    }
   ],
   "source": [
    "# numpy function to calculate the average value in a given array use np.mean()\n",
    "np.mean(arr4)"
   ]
  },
  {
   "cell_type": "code",
   "execution_count": 39,
   "id": "7a0aba5f",
   "metadata": {},
   "outputs": [
    {
     "data": {
      "text/plain": [
       "array([22, 33, 44, 55, 66, 77, 88, 99, 11, 22])"
      ]
     },
     "execution_count": 39,
     "metadata": {},
     "output_type": "execute_result"
    }
   ],
   "source": [
    "# reshaping an array\n",
    "# create an array\n",
    "arr5 = np.array([22,33,44,55,66,77,88,99,11,22,])\n",
    "arr5\n"
   ]
  },
  {
   "cell_type": "code",
   "execution_count": 40,
   "id": "80e83709",
   "metadata": {},
   "outputs": [
    {
     "data": {
      "text/plain": [
       "(10,)"
      ]
     },
     "execution_count": 40,
     "metadata": {},
     "output_type": "execute_result"
    }
   ],
   "source": [
    "arr5.shape"
   ]
  },
  {
   "cell_type": "code",
   "execution_count": 42,
   "id": "5fecd3f8",
   "metadata": {},
   "outputs": [
    {
     "data": {
      "text/plain": [
       "array([[22, 33, 44, 55, 66],\n",
       "       [77, 88, 99, 11, 22]])"
      ]
     },
     "execution_count": 42,
     "metadata": {},
     "output_type": "execute_result"
    }
   ],
   "source": [
    "# reshaping the array to (2,5)\n",
    "# make sure the array has sufficient elements for reshaping to new dimension\n",
    "arr5.reshape((2,5))"
   ]
  },
  {
   "cell_type": "code",
   "execution_count": 46,
   "id": "84c0e1f3",
   "metadata": {},
   "outputs": [
    {
     "data": {
      "text/plain": [
       "array([[ 0,  1,  2,  3,  4,  5,  6,  7,  8,  9],\n",
       "       [10, 11, 12, 13, 14, 15, 16, 17, 18, 19],\n",
       "       [20, 21, 22, 23, 24, 25, 26, 27, 28, 29],\n",
       "       [30, 31, 32, 33, 34, 35, 36, 37, 38, 39],\n",
       "       [40, 41, 42, 43, 44, 45, 46, 47, 48, 49],\n",
       "       [50, 51, 52, 53, 54, 55, 56, 57, 58, 59],\n",
       "       [60, 61, 62, 63, 64, 65, 66, 67, 68, 69],\n",
       "       [70, 71, 72, 73, 74, 75, 76, 77, 78, 79],\n",
       "       [80, 81, 82, 83, 84, 85, 86, 87, 88, 89],\n",
       "       [90, 91, 92, 93, 94, 95, 96, 97, 98, 99]])"
      ]
     },
     "execution_count": 46,
     "metadata": {},
     "output_type": "execute_result"
    }
   ],
   "source": [
    "# slicing and indexing in numpy\n",
    "# create an array and reshape\n",
    "mat1 = np.arange(0,100).reshape((10,10))\n",
    "mat1"
   ]
  },
  {
   "cell_type": "code",
   "execution_count": 47,
   "id": "244d9fc7",
   "metadata": {},
   "outputs": [
    {
     "data": {
      "text/plain": [
       "55"
      ]
     },
     "execution_count": 47,
     "metadata": {},
     "output_type": "execute_result"
    }
   ],
   "source": [
    "# indexing the value located on row 5 and column 5\n",
    "mat1[5,5]"
   ]
  },
  {
   "cell_type": "code",
   "execution_count": 55,
   "id": "683d6c7e",
   "metadata": {},
   "outputs": [
    {
     "data": {
      "text/plain": [
       "array([30, 31, 32, 33, 34, 35, 36, 37, 38, 39])"
      ]
     },
     "execution_count": 55,
     "metadata": {},
     "output_type": "execute_result"
    }
   ],
   "source": [
    "# extract all the elements in the row three\n",
    "mat1[3,:]"
   ]
  },
  {
   "cell_type": "code",
   "execution_count": 61,
   "id": "dc6b8318",
   "metadata": {},
   "outputs": [
    {
     "data": {
      "text/plain": [
       "array([ 4, 14, 24, 34, 44, 54, 64, 74, 84, 94])"
      ]
     },
     "execution_count": 61,
     "metadata": {},
     "output_type": "execute_result"
    }
   ],
   "source": [
    "# extract all the elements in the fourth column\n",
    "mat1[:,4]"
   ]
  },
  {
   "cell_type": "code",
   "execution_count": 62,
   "id": "1ed73f16",
   "metadata": {},
   "outputs": [
    {
     "data": {
      "text/plain": [
       "array([[ 4],\n",
       "       [14],\n",
       "       [24],\n",
       "       [34],\n",
       "       [44],\n",
       "       [54],\n",
       "       [64],\n",
       "       [74],\n",
       "       [84],\n",
       "       [94]])"
      ]
     },
     "execution_count": 62,
     "metadata": {},
     "output_type": "execute_result"
    }
   ],
   "source": [
    "# the above array can be reshaped\n",
    "mat1[:,4].reshape((10,1))"
   ]
  },
  {
   "cell_type": "code",
   "execution_count": 63,
   "id": "21b8f8b3",
   "metadata": {},
   "outputs": [
    {
     "data": {
      "text/plain": [
       "array([[ 0,  1,  2],\n",
       "       [10, 11, 12],\n",
       "       [20, 21, 22]])"
      ]
     },
     "execution_count": 63,
     "metadata": {},
     "output_type": "execute_result"
    }
   ],
   "source": [
    "# to get first three rows and first three columns from the matrix\n",
    "mat1[0:3,0:3]"
   ]
  },
  {
   "cell_type": "code",
   "execution_count": 65,
   "id": "4e47c3ca",
   "metadata": {},
   "outputs": [
    {
     "data": {
      "text/plain": [
       "array([[ 0,  0,  0,  0,  0,  5,  6,  7,  8,  9],\n",
       "       [ 0,  0,  0,  0,  0, 15, 16, 17, 18, 19],\n",
       "       [ 0,  0,  0,  0,  0, 25, 26, 27, 28, 29],\n",
       "       [ 0,  0,  0,  0,  0, 35, 36, 37, 38, 39],\n",
       "       [40, 41, 42, 43, 44, 45, 46, 47, 48, 49],\n",
       "       [50, 51, 52, 53, 54, 55, 56, 57, 58, 59],\n",
       "       [60, 61, 62, 63, 64, 65, 66, 67, 68, 69],\n",
       "       [70, 71, 72, 73, 74, 75, 76, 77, 78, 79],\n",
       "       [80, 81, 82, 83, 84, 85, 86, 87, 88, 89],\n",
       "       [90, 91, 92, 93, 94, 95, 96, 97, 98, 99]])"
      ]
     },
     "execution_count": 65,
     "metadata": {},
     "output_type": "execute_result"
    }
   ],
   "source": [
    "# reassign a value zero to first four rows and first five columns\n",
    "mat1[0:4,0:5]=0\n",
    "mat1"
   ]
  },
  {
   "cell_type": "code",
   "execution_count": 68,
   "id": "9ae65f27",
   "metadata": {},
   "outputs": [],
   "source": [
    "# create a copy of the matrix\n",
    "mat2= mat1.copy()"
   ]
  },
  {
   "cell_type": "code",
   "execution_count": 69,
   "id": "00217721",
   "metadata": {},
   "outputs": [
    {
     "data": {
      "text/plain": [
       "array([[ 0,  0,  0,  0,  0,  5,  6,  7,  8,  9],\n",
       "       [ 0,  0,  0,  0,  0, 15, 16, 17, 18, 19],\n",
       "       [ 0,  0,  0,  0,  0, 25, 26, 27, 28, 29],\n",
       "       [ 0,  0,  0,  0,  0, 35, 36, 37, 38, 39],\n",
       "       [40, 41, 42, 43, 44, 45, 46, 47, 48, 49],\n",
       "       [50, 51, 52, 53, 54, 55, 56, 57, 58, 59],\n",
       "       [60, 61, 62, 63, 64, 65, 66, 67, 68, 69],\n",
       "       [70, 71, 72, 73, 74, 75, 76, 77, 78, 79],\n",
       "       [80, 81, 82, 83, 84, 85, 86, 87, 88, 89],\n",
       "       [90, 91, 92, 93, 94, 95, 96, 97, 98, 99]])"
      ]
     },
     "execution_count": 69,
     "metadata": {},
     "output_type": "execute_result"
    }
   ],
   "source": [
    "mat2"
   ]
  },
  {
   "cell_type": "code",
   "execution_count": 71,
   "id": "da6710c9",
   "metadata": {},
   "outputs": [],
   "source": [
    "# reassign 999 to first four rows\n",
    "mat1[0:5,:]=999"
   ]
  },
  {
   "cell_type": "code",
   "execution_count": 72,
   "id": "7b1a9c81",
   "metadata": {},
   "outputs": [
    {
     "data": {
      "text/plain": [
       "array([[999, 999, 999, 999, 999, 999, 999, 999, 999, 999],\n",
       "       [999, 999, 999, 999, 999, 999, 999, 999, 999, 999],\n",
       "       [999, 999, 999, 999, 999, 999, 999, 999, 999, 999],\n",
       "       [999, 999, 999, 999, 999, 999, 999, 999, 999, 999],\n",
       "       [999, 999, 999, 999, 999, 999, 999, 999, 999, 999],\n",
       "       [ 50,  51,  52,  53,  54,  55,  56,  57,  58,  59],\n",
       "       [ 60,  61,  62,  63,  64,  65,  66,  67,  68,  69],\n",
       "       [ 70,  71,  72,  73,  74,  75,  76,  77,  78,  79],\n",
       "       [ 80,  81,  82,  83,  84,  85,  86,  87,  88,  89],\n",
       "       [ 90,  91,  92,  93,  94,  95,  96,  97,  98,  99]])"
      ]
     },
     "execution_count": 72,
     "metadata": {},
     "output_type": "execute_result"
    }
   ],
   "source": [
    "mat1"
   ]
  },
  {
   "cell_type": "code",
   "execution_count": null,
   "id": "b70f3b2a",
   "metadata": {},
   "outputs": [],
   "source": []
  }
 ],
 "metadata": {
  "kernelspec": {
   "display_name": "Python 3 (ipykernel)",
   "language": "python",
   "name": "python3"
  },
  "language_info": {
   "codemirror_mode": {
    "name": "ipython",
    "version": 3
   },
   "file_extension": ".py",
   "mimetype": "text/x-python",
   "name": "python",
   "nbconvert_exporter": "python",
   "pygments_lexer": "ipython3",
   "version": "3.9.7"
  }
 },
 "nbformat": 4,
 "nbformat_minor": 5
}
